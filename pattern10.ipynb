{
  "nbformat": 4,
  "nbformat_minor": 0,
  "metadata": {
    "colab": {
      "provenance": [],
      "authorship_tag": "ABX9TyPL1/Yr3hH/F5791mdVzno+",
      "include_colab_link": true
    },
    "kernelspec": {
      "name": "python3",
      "display_name": "Python 3"
    },
    "language_info": {
      "name": "python"
    }
  },
  "cells": [
    {
      "cell_type": "markdown",
      "metadata": {
        "id": "view-in-github",
        "colab_type": "text"
      },
      "source": [
        "<a href=\"https://colab.research.google.com/github/amansingh202/DSA/blob/master/pattern10.ipynb\" target=\"_parent\"><img src=\"https://colab.research.google.com/assets/colab-badge.svg\" alt=\"Open In Colab\"/></a>"
      ]
    },
    {
      "cell_type": "code",
      "execution_count": 13,
      "metadata": {
        "id": "EIGfN6p-rAFu"
      },
      "outputs": [],
      "source": [
        "def nForest(n):\n",
        "  #rows\n",
        "  for i in range(n//2 + 1):\n",
        "    for j in range(i+1):\n",
        "      print('*',end=' ')\n",
        "    for j in range(n//2 - i + 1):\n",
        "      print(' ',end = ' ')\n",
        "    print()\n",
        "  for i in range(n//2):\n",
        "    for j in range(n//2 - i):\n",
        "      print('*', end = ' ')\n",
        "    for j in range(i+1):\n",
        "      print(' ',end = ' ')\n",
        "    print()\n"
      ]
    },
    {
      "cell_type": "code",
      "source": [
        "nForest(9)"
      ],
      "metadata": {
        "colab": {
          "base_uri": "https://localhost:8080/"
        },
        "id": "dlB7XC0OrpGy",
        "outputId": "a1cb56ec-ec7d-4046-d167-c7a62f9e0262"
      },
      "execution_count": 14,
      "outputs": [
        {
          "output_type": "stream",
          "name": "stdout",
          "text": [
            "*           \n",
            "* *         \n",
            "* * *       \n",
            "* * * *     \n",
            "* * * * *   \n",
            "* * * *   \n",
            "* * *     \n",
            "* *       \n",
            "*         \n"
          ]
        }
      ]
    },
    {
      "cell_type": "code",
      "source": [],
      "metadata": {
        "id": "IJNesSX4rrDT"
      },
      "execution_count": null,
      "outputs": []
    }
  ]
}