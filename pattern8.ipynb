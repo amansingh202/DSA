{
  "nbformat": 4,
  "nbformat_minor": 0,
  "metadata": {
    "colab": {
      "provenance": [],
      "authorship_tag": "ABX9TyPnK7RHPRi8SfugvYHPp7y+",
      "include_colab_link": true
    },
    "kernelspec": {
      "name": "python3",
      "display_name": "Python 3"
    },
    "language_info": {
      "name": "python"
    }
  },
  "cells": [
    {
      "cell_type": "markdown",
      "metadata": {
        "id": "view-in-github",
        "colab_type": "text"
      },
      "source": [
        "<a href=\"https://colab.research.google.com/github/amansingh202/DSA/blob/master/pattern8.ipynb\" target=\"_parent\"><img src=\"https://colab.research.google.com/assets/colab-badge.svg\" alt=\"Open In Colab\"/></a>"
      ]
    },
    {
      "cell_type": "code",
      "source": [
        "def nForest(n):\n",
        "  for i in range(0,n):\n",
        "    #spaces\n",
        "    for j in range(i):\n",
        "      print(\" \", end = \" \")\n",
        "      #stars\n",
        "    for j in range(2*n - 2*i - 1):\n",
        "      print('*', end =\" \")\n",
        "      #spaces\n",
        "    for j in range(i):\n",
        "      print(\" \", end = \" \")\n",
        "    print()\n",
        ""
      ],
      "metadata": {
        "id": "Buurg78ntqkv"
      },
      "execution_count": 70,
      "outputs": []
    },
    {
      "cell_type": "code",
      "source": [
        "nForest(5)"
      ],
      "metadata": {
        "colab": {
          "base_uri": "https://localhost:8080/"
        },
        "id": "NKHqBuqcxi2Q",
        "outputId": "1d80d319-b56b-414a-e950-aacf173ba8a5"
      },
      "execution_count": 71,
      "outputs": [
        {
          "output_type": "stream",
          "name": "stdout",
          "text": [
            "* * * * * * * * * \n",
            "  * * * * * * *   \n",
            "    * * * * *     \n",
            "      * * *       \n",
            "        *         \n"
          ]
        }
      ]
    },
    {
      "cell_type": "code",
      "source": [],
      "metadata": {
        "id": "DCIKm6CBxkwA"
      },
      "execution_count": null,
      "outputs": []
    }
  ]
}