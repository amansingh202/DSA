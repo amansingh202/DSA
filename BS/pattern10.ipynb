{
  "nbformat": 4,
  "nbformat_minor": 0,
  "metadata": {
    "colab": {
      "provenance": [],
      "authorship_tag": "ABX9TyP7eMoEdEqZzd9ZoR3c5JkK",
      "include_colab_link": true
    },
    "kernelspec": {
      "name": "python3",
      "display_name": "Python 3"
    },
    "language_info": {
      "name": "python"
    }
  },
  "cells": [
    {
      "cell_type": "markdown",
      "metadata": {
        "id": "view-in-github",
        "colab_type": "text"
      },
      "source": [
        "<a href=\"https://colab.research.google.com/github/amansingh202/DSA/blob/main/pattern10.ipynb\" target=\"_parent\"><img src=\"https://colab.research.google.com/assets/colab-badge.svg\" alt=\"Open In Colab\"/></a>"
      ]
    },
    {
      "cell_type": "code",
      "execution_count": 22,
      "metadata": {
        "id": "EIGfN6p-rAFu"
      },
      "outputs": [],
      "source": [
        "def nForest(n):\n",
        "  #rows\n",
        "  for i in range(n):\n",
        "    for j in range(i+1):\n",
        "      if i%2==0 and j%2==0:\n",
        "        print(1,end=' ')\n",
        "      elif i%2==1 and j%2==0:\n",
        "        print(0,end = ' ')\n",
        "      elif i%2==1 and j%2==1:\n",
        "        print(1, end = ' ')\n",
        "      else:\n",
        "        print(0, end=' ')\n",
        "    for j in range(n-i):\n",
        "      print(' ',end = ' ')\n",
        "\n",
        "    print()\n",
        "\n"
      ]
    },
    {
      "cell_type": "code",
      "source": [
        "nForest(17)"
      ],
      "metadata": {
        "colab": {
          "base_uri": "https://localhost:8080/"
        },
        "id": "dlB7XC0OrpGy",
        "outputId": "6c77e615-e44b-4c3a-904b-a81545685e58"
      },
      "execution_count": 24,
      "outputs": [
        {
          "output_type": "stream",
          "name": "stdout",
          "text": [
            "1                                   \n",
            "0 1                                 \n",
            "1 0 1                               \n",
            "0 1 0 1                             \n",
            "1 0 1 0 1                           \n",
            "0 1 0 1 0 1                         \n",
            "1 0 1 0 1 0 1                       \n",
            "0 1 0 1 0 1 0 1                     \n",
            "1 0 1 0 1 0 1 0 1                   \n",
            "0 1 0 1 0 1 0 1 0 1                 \n",
            "1 0 1 0 1 0 1 0 1 0 1               \n",
            "0 1 0 1 0 1 0 1 0 1 0 1             \n",
            "1 0 1 0 1 0 1 0 1 0 1 0 1           \n",
            "0 1 0 1 0 1 0 1 0 1 0 1 0 1         \n",
            "1 0 1 0 1 0 1 0 1 0 1 0 1 0 1       \n",
            "0 1 0 1 0 1 0 1 0 1 0 1 0 1 0 1     \n",
            "1 0 1 0 1 0 1 0 1 0 1 0 1 0 1 0 1   \n"
          ]
        }
      ]
    },
    {
      "cell_type": "code",
      "source": [],
      "metadata": {
        "id": "IJNesSX4rrDT"
      },
      "execution_count": null,
      "outputs": []
    }
  ]
}