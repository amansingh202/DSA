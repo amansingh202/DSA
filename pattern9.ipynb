{
  "nbformat": 4,
  "nbformat_minor": 0,
  "metadata": {
    "colab": {
      "provenance": [],
      "authorship_tag": "ABX9TyNmfwK+9pOjXspwksliG9lb",
      "include_colab_link": true
    },
    "kernelspec": {
      "name": "python3",
      "display_name": "Python 3"
    },
    "language_info": {
      "name": "python"
    }
  },
  "cells": [
    {
      "cell_type": "markdown",
      "metadata": {
        "id": "view-in-github",
        "colab_type": "text"
      },
      "source": [
        "<a href=\"https://colab.research.google.com/github/amansingh202/DSA/blob/master/pattern9.ipynb\" target=\"_parent\"><img src=\"https://colab.research.google.com/assets/colab-badge.svg\" alt=\"Open In Colab\"/></a>"
      ]
    },
    {
      "cell_type": "code",
      "source": [
        "def nForest(n):\n",
        "  #upper half triangle rows\n",
        "  for i in range(n//2 + 1):\n",
        "    #spaces\n",
        "    for j in range(0,(n//2) + 1 - i):\n",
        "      print(' ', end=\" \")\n",
        "    #stars\n",
        "    for j in range(0,2*i+1):\n",
        "      print('*', end = \" \")\n",
        "    print()\n",
        "  #lower half traingle rows\n",
        "  for i in range(n//2):\n",
        "    #spaces\n",
        "    for j in range(i+2):\n",
        "      print(' ', end = ' ')\n",
        "    for j in range(2*(n//2) - 2*i -1):\n",
        "      print('*', end = \" \")\n",
        "    for j in range(i+1):\n",
        "      print(' ', end = ' ')\n",
        "    print()"
      ],
      "metadata": {
        "id": "Buurg78ntqkv"
      },
      "execution_count": 96,
      "outputs": []
    },
    {
      "cell_type": "code",
      "source": [
        "nForest(7)"
      ],
      "metadata": {
        "colab": {
          "base_uri": "https://localhost:8080/"
        },
        "id": "NKHqBuqcxi2Q",
        "outputId": "2c8de300-5a40-43fe-c4e4-7dc201f58475"
      },
      "execution_count": 97,
      "outputs": [
        {
          "output_type": "stream",
          "name": "stdout",
          "text": [
            "        * \n",
            "      * * * \n",
            "    * * * * * \n",
            "  * * * * * * * \n",
            "    * * * * *   \n",
            "      * * *     \n",
            "        *       \n"
          ]
        }
      ]
    },
    {
      "cell_type": "code",
      "source": [],
      "metadata": {
        "id": "DCIKm6CBxkwA"
      },
      "execution_count": null,
      "outputs": []
    }
  ]
}